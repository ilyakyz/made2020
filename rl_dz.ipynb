{
 "cells": [
  {
   "cell_type": "code",
   "execution_count": 1,
   "metadata": {},
   "outputs": [],
   "source": [
    "import gym\n",
    "import numpy as np\n",
    "import random\n",
    "from collections import defaultdict\n",
    "from gym import spaces\n",
    "from gym.utils import seeding\n",
    "import matplotlib.pyplot as plt"
   ]
  },
  {
   "cell_type": "markdown",
   "metadata": {},
   "source": [
    "<H1>Часть первая, с блекджеком и стратегиями</H1>"
   ]
  },
  {
   "cell_type": "code",
   "execution_count": 136,
   "metadata": {},
   "outputs": [
    {
     "data": {
      "text/plain": [
       "Tuple(Discrete(32), Discrete(11), Discrete(2))"
      ]
     },
     "execution_count": 136,
     "metadata": {},
     "output_type": "execute_result"
    }
   ],
   "source": [
    "env = gym.make('Blackjack-v0')\n",
    "env.observation_space"
   ]
  },
  {
   "cell_type": "code",
   "execution_count": 3,
   "metadata": {},
   "outputs": [
    {
     "data": {
      "text/plain": [
       "Discrete(2)"
      ]
     },
     "execution_count": 3,
     "metadata": {},
     "output_type": "execute_result"
    }
   ],
   "source": [
    "env.action_space"
   ]
  },
  {
   "cell_type": "code",
   "execution_count": 4,
   "metadata": {},
   "outputs": [
    {
     "name": "stdout",
     "output_type": "stream",
     "text": [
      "-0.20023\n"
     ]
    }
   ],
   "source": [
    "n_episodes = 200000\n",
    "rewards_sum = 0.\n",
    "\n",
    "for edisode in range(n_episodes):\n",
    "    state = env.reset()\n",
    "    while True:\n",
    "        if state[0] >= 19:\n",
    "            state, reward, done, info = env.step(0)\n",
    "        else:\n",
    "            state, reward, done, info = env.step(1)\n",
    "        if done:\n",
    "            rewards_sum += reward\n",
    "            break\n",
    "            \n",
    "print(rewards_sum / n_episodes)"
   ]
  },
  {
   "cell_type": "code",
   "execution_count": 4,
   "metadata": {},
   "outputs": [],
   "source": [
    "def estimate_reward(policy, env, n_episodes=200000):\n",
    "    rewards_sum = 0.\n",
    "\n",
    "    for episode in range(n_episodes):\n",
    "        trace = []\n",
    "        state = env.reset()\n",
    "        while True:\n",
    "            action = policy(state)\n",
    "\n",
    "            state, reward, done, info = env.step(action)\n",
    "\n",
    "            if done:\n",
    "                rewards_sum += reward\n",
    "                break\n",
    "\n",
    "    return rewards_sum / n_episodes\n",
    "\n",
    "\n",
    "class policy_from_Q:\n",
    "    def __init__(self, Q):\n",
    "        self.Q = Q\n",
    "    def __call__(self, state):\n",
    "        if state not in self.Q:\n",
    "            return random.randrange(env.action_space.n)\n",
    "        else:\n",
    "            return np.argmax(self.Q[state])"
   ]
  },
  {
   "cell_type": "code",
   "execution_count": 9,
   "metadata": {},
   "outputs": [],
   "source": [
    "def q_learn(env, n_episodes=500000):\n",
    "    Q = defaultdict(lambda: [0.] * env.action_space.n)\n",
    "\n",
    "    eps = .05\n",
    "    gamma = 1.\n",
    "    alpha = .01\n",
    "\n",
    "    for episode in range(n_episodes):\n",
    "        state = env.reset()\n",
    "        while True:\n",
    "            if random.random() < eps:\n",
    "                action = random.randrange(env.action_space.n)\n",
    "            else:\n",
    "                action = np.argmax(Q[state])\n",
    "\n",
    "            new_state, reward, done, info = env.step(action)\n",
    "            \n",
    "            if done:\n",
    "                Q[state][action] += alpha * (reward - Q[state][action])\n",
    "            else:\n",
    "                Q[state][action] += alpha * (reward + gamma * max(Q[new_state]) - Q[state][action])\n",
    "            state = new_state\n",
    "            \n",
    "            if done:\n",
    "                break\n",
    "    \n",
    "    return Q"
   ]
  },
  {
   "cell_type": "code",
   "execution_count": 139,
   "metadata": {},
   "outputs": [
    {
     "name": "stdout",
     "output_type": "stream",
     "text": [
      "-0.052125\n"
     ]
    }
   ],
   "source": [
    "Q = q_learn(env)\n",
    "print(estimate_reward(policy_from_Q(Q), env))"
   ]
  },
  {
   "cell_type": "code",
   "execution_count": 20,
   "metadata": {},
   "outputs": [],
   "source": [
    "def on_policy_mc(env, n_episodes=500000):\n",
    "    ret_sum = defaultdict(lambda: [0.] * env.action_space.n)\n",
    "    ret_n = defaultdict(lambda: [0] * env.action_space.n)\n",
    "    Q = defaultdict(lambda: [0.] * env.action_space.n)\n",
    "\n",
    "    eps = 0.2\n",
    "    gamma = 1.\n",
    "\n",
    "    state = env.reset()\n",
    "    for episode in range(n_episodes):\n",
    "        trace = []\n",
    "        state = env.reset()\n",
    "        while True:\n",
    "            if random.random() < eps:\n",
    "                action = random.randrange(env.action_space.n)\n",
    "            else:\n",
    "                action = np.argmax(Q[state])\n",
    "\n",
    "            trace.append([state, action])\n",
    "            state, reward, done, info = env.step(action)\n",
    "\n",
    "            if done:\n",
    "                break\n",
    "\n",
    "        G = reward\n",
    "        for (st, action) in trace[::-1]:        \n",
    "            ret_sum[st][action] += G\n",
    "            ret_n[st][action] += 1\n",
    "            Q[st][action] = ret_sum[st][action] / ret_n[st][action]\n",
    "            G *= gamma\n",
    "    \n",
    "    return Q"
   ]
  },
  {
   "cell_type": "code",
   "execution_count": 7,
   "metadata": {},
   "outputs": [
    {
     "name": "stdout",
     "output_type": "stream",
     "text": [
      "-0.05369\n"
     ]
    }
   ],
   "source": [
    "Q = on_policy_mc(env)\n",
    "print(estimate_reward(policy_from_Q(Q), env))"
   ]
  },
  {
   "cell_type": "code",
   "execution_count": 7,
   "metadata": {},
   "outputs": [],
   "source": [
    "def off_policy_mc(env, n_episodes=400001, eps=0.2, gamma=1., estimate_step=0):\n",
    "    Q = defaultdict(lambda: [0.] * env.action_space.n)\n",
    "    C = defaultdict(lambda: [0.] * env.action_space.n)\n",
    "    rewards_history = []\n",
    "    \n",
    "    for episode in range(n_episodes):\n",
    "        if estimate_step and episode % estimate_step == 0:\n",
    "            rewards_history.append(estimate_reward(policy_from_Q(Q), env))\n",
    "        \n",
    "        trace = []\n",
    "        state = env.reset()\n",
    "        while True:\n",
    "            if random.random() < eps:\n",
    "                action = random.randrange(env.action_space.n)\n",
    "            else:\n",
    "                action = np.argmax(Q[state])\n",
    "\n",
    "            trace.append([state, action])\n",
    "            state, reward, done, info = env.step(action)\n",
    "\n",
    "            if done:\n",
    "                break\n",
    "\n",
    "        G = reward\n",
    "        W = 1.\n",
    "        for (st, action) in trace[::-1]:\n",
    "            C[st][action] += W\n",
    "            Q[st][action] += W / C[st][action] * (G - Q[st][action])\n",
    "\n",
    "            if action != np.argmax(Q[st]):\n",
    "                break\n",
    "\n",
    "            W /= (1. - eps/env.action_space.n) \n",
    "            G *= gamma\n",
    "    \n",
    "    return Q, rewards_history"
   ]
  },
  {
   "cell_type": "code",
   "execution_count": 31,
   "metadata": {},
   "outputs": [
    {
     "name": "stdout",
     "output_type": "stream",
     "text": [
      "-0.04764\n"
     ]
    }
   ],
   "source": [
    "Q, rewards_history = off_policy_mc(env, estimate_step=20000)\n",
    "print(estimate_reward(policy_from_Q(Q), env))"
   ]
  },
  {
   "cell_type": "markdown",
   "metadata": {},
   "source": [
    "off_policy_mc дает лучшие результаты, будем строить графики для этого метода"
   ]
  },
  {
   "cell_type": "code",
   "execution_count": 37,
   "metadata": {},
   "outputs": [
    {
     "data": {
      "text/plain": [
       "[<matplotlib.lines.Line2D at 0x7f7fff86f8b0>]"
      ]
     },
     "execution_count": 37,
     "metadata": {},
     "output_type": "execute_result"
    },
    {
     "data": {
      "image/png": "[encoded data removed]",
      "text/plain": [
       "<Figure size 432x288 with 1 Axes>"
      ]
     },
     "metadata": {
      "needs_background": "light"
     },
     "output_type": "display_data"
    }
   ],
   "source": [
    "plt.title('blackjack-v0 off-policy mc profit')\n",
    "plt.xlabel('n_episodes')\n",
    "plt.plot(range(0, 400001, 20000), rewards_history)"
   ]
  },
  {
   "cell_type": "markdown",
   "metadata": {},
   "source": [
    "<H1>Часть вторая, удвоенная</H1>"
   ]
  },
  {
   "cell_type": "code",
   "execution_count": 36,
   "metadata": {},
   "outputs": [],
   "source": [
    "from gym.envs.toy_text.blackjack import draw_hand, sum_hand, usable_ace, is_bust, cmp, draw_card, \\\n",
    "    score\n",
    "\n",
    "class BlackjackDoubleEnv(gym.Env):\n",
    "    def __init__(self, natural=False):\n",
    "        self.action_space = spaces.Discrete(3)\n",
    "        self.observation_space = spaces.Tuple((\n",
    "            spaces.Discrete(32),\n",
    "            spaces.Discrete(11),\n",
    "            spaces.Discrete(2)))\n",
    "        self.seed()\n",
    "\n",
    "        # Flag to payout 1.5 on a \"natural\" blackjack win, like casino rules\n",
    "        # Ref: http://www.bicyclecards.com/how-to-play/blackjack/\n",
    "        self.natural = natural\n",
    "        # Start the first game\n",
    "        self.reset()\n",
    "\n",
    "    def seed(self, seed=None):\n",
    "        self.np_random, seed = seeding.np_random(seed)\n",
    "        return [seed]\n",
    "\n",
    "    def step(self, action):\n",
    "        assert self.action_space.contains(action)\n",
    "        if action == 2:\n",
    "            self.player.append(draw_card(self.np_random))\n",
    "            done = True\n",
    "            if is_bust(self.player):\n",
    "                reward = -2.\n",
    "            else:\n",
    "                while sum_hand(self.dealer) < 17:\n",
    "                    self.dealer.append(draw_card(self.np_random))\n",
    "                reward = cmp(score(self.player), score(self.dealer)) * 2\n",
    "                if self.natural and is_natural(self.player) and reward == 2.:\n",
    "                    reward = 3.\n",
    "        elif action == 1:  # hit: add a card to players hand and return\n",
    "            self.player.append(draw_card(self.np_random))\n",
    "            if is_bust(self.player):\n",
    "                done = True\n",
    "                reward = -1.\n",
    "            else:\n",
    "                done = False\n",
    "                reward = 0.\n",
    "        else:  # stick: play out the dealers hand, and score\n",
    "            done = True\n",
    "            while sum_hand(self.dealer) < 17:\n",
    "                self.dealer.append(draw_card(self.np_random))\n",
    "            reward = cmp(score(self.player), score(self.dealer))\n",
    "            if self.natural and is_natural(self.player) and reward == 1.:\n",
    "                reward = 1.5\n",
    "        return self._get_obs(), reward, done, {}\n",
    "\n",
    "    def _get_obs(self):\n",
    "        return (sum_hand(self.player), self.dealer[0], usable_ace(self.player))\n",
    "\n",
    "    def reset(self):\n",
    "        self.dealer = draw_hand(self.np_random)\n",
    "        self.player = draw_hand(self.np_random)\n",
    "        return self._get_obs()"
   ]
  },
  {
   "cell_type": "code",
   "execution_count": 126,
   "metadata": {},
   "outputs": [
    {
     "name": "stdout",
     "output_type": "stream",
     "text": [
      "-0.03855\n"
     ]
    }
   ],
   "source": [
    "env = BlackjackDoubleEnv()\n",
    "Q, rewards_history = off_policy_mc(env, estimate_step=20000)\n",
    "print(estimate_reward(policy_from_Q(Q), env))"
   ]
  },
  {
   "cell_type": "code",
   "execution_count": 128,
   "metadata": {},
   "outputs": [
    {
     "data": {
      "text/plain": [
       "[<matplotlib.lines.Line2D at 0x7f800109d370>]"
      ]
     },
     "execution_count": 128,
     "metadata": {},
     "output_type": "execute_result"
    },
    {
     "data": {
      "image/png": "[encoded data removed]",
      "text/plain": [
       "<Figure size 432x288 with 1 Axes>"
      ]
     },
     "metadata": {
      "needs_background": "light"
     },
     "output_type": "display_data"
    }
   ],
   "source": [
    "plt.title('blackjack with doubling off-policy mc profit')\n",
    "plt.xlabel('n_episodes')\n",
    "plt.plot(range(0, 400001, 20000), rewards_history)"
   ]
  },
  {
   "cell_type": "markdown",
   "metadata": {},
   "source": [
    "<H1>Часть третья, в главной роли — Дастин Хоффман</H1>\n",
    "Добавлен подсчет карт по системе \"Половинки\". Поскольку проброс вознаграждения на действия в предыдущих играх не очень полезен в конце каждой игры возвращается done, однако reset() не перемешивает карты без необходимости."
   ]
  },
  {
   "cell_type": "code",
   "execution_count": 12,
   "metadata": {},
   "outputs": [],
   "source": [
    "cards_count = [-1, 0.5, 1, 1, 1.5, 1, .5, 0, -0.5, -1]\n",
    "\n",
    "class BlackjackCountEnv(gym.Env):\n",
    "    def __init__(self, natural=False):\n",
    "        self.action_space = spaces.Discrete(3)\n",
    "        self.observation_space = spaces.Tuple((\n",
    "            spaces.Discrete(32),\n",
    "            spaces.Discrete(11),\n",
    "            spaces.Discrete(2)))\n",
    "        self.seed()\n",
    "\n",
    "        # Flag to payout 1.5 on a \"natural\" blackjack win, like casino rules\n",
    "        # Ref: http://www.bicyclecards.com/how-to-play/blackjack/\n",
    "        self.natural = natural\n",
    "        # Start the first game\n",
    "        self.full_reset()\n",
    "\n",
    "    def _draw_card(self):\n",
    "        result = self.deck[self.position]\n",
    "        self.position += 1\n",
    "        self.drawn_cards_sum += cards_count[result-1]\n",
    "        return result\n",
    "    \n",
    "    def _draw_hand(self):\n",
    "        return [self._draw_card(), self._draw_card()]    \n",
    "    \n",
    "    def seed(self, seed=None):\n",
    "        self.np_random, seed = seeding.np_random(seed)\n",
    "        return [seed]\n",
    "\n",
    "    def step(self, action):\n",
    "        assert self.action_space.contains(action)\n",
    "        if action == 2:\n",
    "            self.player.append(self._draw_card())\n",
    "            done = True\n",
    "            if is_bust(self.player):\n",
    "                reward = -2.\n",
    "            else:\n",
    "                while sum_hand(self.dealer) < 17:\n",
    "                    self.dealer.append(self._draw_card())\n",
    "                reward = cmp(score(self.player), score(self.dealer)) * 2\n",
    "                if self.natural and is_natural(self.player) and reward == 2.:\n",
    "                    reward = 3.\n",
    "        elif action == 1:  # hit: add a card to players hand and return\n",
    "            self.player.append(self._draw_card())\n",
    "            if is_bust(self.player):\n",
    "                done = True\n",
    "                reward = -1.\n",
    "            else:\n",
    "                done = False\n",
    "                reward = 0.\n",
    "        else:  # stick: play out the dealers hand, and score\n",
    "            done = True\n",
    "            while sum_hand(self.dealer) < 17:\n",
    "                self.dealer.append(self._draw_card())\n",
    "            reward = cmp(score(self.player), score(self.dealer))\n",
    "            if self.natural and is_natural(self.player) and reward == 1.:\n",
    "                reward = 1.5\n",
    "        if done:\n",
    "            if (len(self.deck) - self.position < 15):\n",
    "                self._shuffle_deck()\n",
    "            \n",
    "        return self._get_obs(), reward, done, {}\n",
    "\n",
    "    def _get_obs(self):\n",
    "        return (sum_hand(self.player), self.dealer[0], self.drawn_cards_sum,\n",
    "                usable_ace(self.player))\n",
    "\n",
    "    def _shuffle_deck(self):\n",
    "        random.shuffle(self.deck)\n",
    "        self.position = 0\n",
    "        self.drawn_cards_sum = 0.\n",
    "    \n",
    "    def full_reset(self):\n",
    "        self.deck = [1, 2, 3, 4, 5, 6, 7, 8, 9, 10, 10, 10, 10] * 4\n",
    "        self._shuffle_deck() \n",
    "        self.reset()\n",
    "    \n",
    "    def reset(self):\n",
    "       # self._shuffle_deck() \n",
    "       # self.dealer = self._draw_hand()\n",
    "        self.dealer = [self._draw_card()]\n",
    "        self.player = self._draw_hand()\n",
    "        return self._get_obs()"
   ]
  },
  {
   "cell_type": "code",
   "execution_count": 13,
   "metadata": {},
   "outputs": [
    {
     "data": {
      "text/plain": [
       "-0.0296925"
      ]
     },
     "execution_count": 13,
     "metadata": {},
     "output_type": "execute_result"
    }
   ],
   "source": [
    "env = BlackjackCountEnv()\n",
    "Q, rewards_history = off_policy_mc(env, n_episodes=10000000, estimate_step=500000)\n",
    "estimate_reward(policy_from_Q(Q), env, n_episodes=400000)"
   ]
  },
  {
   "cell_type": "code",
   "execution_count": 125,
   "metadata": {},
   "outputs": [
    {
     "data": {
      "text/plain": [
       "[<matplotlib.lines.Line2D at 0x7f8001d9a520>]"
      ]
     },
     "execution_count": 125,
     "metadata": {},
     "output_type": "execute_result"
    },
    {
     "data": {
      "image/png": "[encoded data removed]",
      "text/plain": [
       "<Figure size 432x288 with 1 Axes>"
      ]
     },
     "metadata": {
      "needs_background": "light"
     },
     "output_type": "display_data"
    }
   ],
   "source": [
    "plt.title('blackjack with counting off-policy mc profit')\n",
    "plt.xlabel('n_episodes')\n",
    "plt.plot(range(0, 10000000, 500000), rewards_history)"
   ]
  },
  {
   "cell_type": "markdown",
   "metadata": {},
   "source": [
    "<H1>Часть четвёртая, опциональная</H1>\n",
    "Решение уравнений Беллмана для V"
   ]
  },
  {
   "cell_type": "code",
   "execution_count": 129,
   "metadata": {},
   "outputs": [],
   "source": [
    "transitions = {}\n",
    "\n",
    "def calc_transition(state):\n",
    "    if (state) in transitions:\n",
    "        return\n",
    "    \n",
    "    hand_sum, usable_ace = state\n",
    "\n",
    "    state_transitions = []\n",
    "    transitions[state] = state_transitions\n",
    "    bust_proba = 0.\n",
    "    \n",
    "    def append_transition(proba, hand_sum, card, usable_ace):\n",
    "        nonlocal bust_proba\n",
    "        if card == 1 and not usable_ace and hand_sum + 11 <= 21:\n",
    "            hand_sum += 11\n",
    "            usable_ace = True\n",
    "        else:\n",
    "            hand_sum += card\n",
    "            \n",
    "        if usable_ace and hand_sum > 21:\n",
    "            hand_sum -= 10\n",
    "            usable_ace = False\n",
    "        \n",
    "        if hand_sum > 21:\n",
    "            bust_proba += proba\n",
    "        else:\n",
    "            state_transitions.append((proba, (hand_sum, usable_ace)))\n",
    "            calc_transition((hand_sum, usable_ace))\n",
    "    \n",
    "    for card in range(1, 10):\n",
    "        append_transition(1/13, hand_sum, card, usable_ace)\n",
    "            \n",
    "    append_transition(4/13, hand_sum, 10, usable_ace)\n",
    "\n",
    "    if bust_proba > 0:\n",
    "        state_transitions.append((bust_proba, (-1, False)))\n",
    "                    \n",
    "for card_sum in range(4, 20):\n",
    "    calc_transition((card_sum, False))\n",
    "for card_sum in range(12, 21):\n",
    "    calc_transition((card_sum, True))"
   ]
  },
  {
   "cell_type": "code",
   "execution_count": 130,
   "metadata": {},
   "outputs": [],
   "source": [
    "def calc_dealer_sum(first_card):\n",
    "    dealer_sum_probas = {-1: 0., 17: 0., 18.: 0, 19: 0., 20: 0., 21: 0.}\n",
    "    state_probas = defaultdict(float)\n",
    "    state_probas[first_card, first_card == 1] = 1.\n",
    "    \n",
    "    def add_proba(proba, hand_sum, has_ace):\n",
    "        card_sum = hand_sum\n",
    "        if has_ace and hand_sum + 10 <= 21:\n",
    "            card_sum += 10\n",
    "        if card_sum > 21:\n",
    "            dealer_sum_probas[-1] += proba\n",
    "        elif card_sum >= 17:\n",
    "            dealer_sum_probas[card_sum] += proba\n",
    "        else: \n",
    "            state_probas[hand_sum, has_ace] += proba\n",
    "        \n",
    "    while (state_probas):\n",
    "        hand_sum, has_ace = min(state_probas)\n",
    "        state_proba = state_probas[hand_sum, has_ace]\n",
    "        add_proba(state_proba*1/13, hand_sum+1, True)\n",
    "        for card in range(2, 10):\n",
    "            add_proba(state_proba*1/13, hand_sum+card, has_ace)\n",
    "        add_proba(state_proba*4/13, hand_sum+10, has_ace)\n",
    "        \n",
    "        del state_probas[hand_sum, has_ace]\n",
    "    return dealer_sum_probas\n",
    "    \n",
    "dealer_sum_probas = {card: calc_dealer_sum(card) for card in range(1, 11)}"
   ]
  },
  {
   "cell_type": "code",
   "execution_count": 131,
   "metadata": {},
   "outputs": [],
   "source": [
    "V = {}\n",
    "\n",
    "for state_hand in transitions.keys():\n",
    "    for state_dealer in dealer_sum_probas.keys():\n",
    "        V[state_hand, state_dealer] = random.random()"
   ]
  },
  {
   "cell_type": "code",
   "execution_count": 132,
   "metadata": {},
   "outputs": [],
   "source": [
    "def calc_q(state_hand, state_dealer, gamma=1.):\n",
    "    state_transitions = transitions[state_hand]\n",
    "    state_dealear_sum_probas = dealer_sum_probas[state_dealer]\n",
    "    \n",
    "    q_hit = 0.\n",
    "    for proba, next_state in state_transitions:\n",
    "        if next_state == (-1, False):\n",
    "            q_hit += proba * -1\n",
    "        else:\n",
    "            q_hit += proba * gamma * V[next_state, state_dealer]\n",
    "            \n",
    "    q_stick = 0.\n",
    "    card_sum, usable_ace = state_hand\n",
    "    for dealear_sum, proba in state_dealear_sum_probas.items():\n",
    "        if dealear_sum < card_sum:\n",
    "            q_stick += proba\n",
    "        elif dealear_sum > card_sum:\n",
    "            q_stick -= proba\n",
    "    \n",
    "    return q_stick, q_hit\n",
    "\n",
    "for n_iter in range(10):\n",
    "    for state_hand in transitions.keys():\n",
    "        for state_dealer in dealer_sum_probas.keys():\n",
    "            V[state_hand, state_dealer] = max(calc_q(state_hand, state_dealer))"
   ]
  },
  {
   "cell_type": "code",
   "execution_count": 133,
   "metadata": {},
   "outputs": [],
   "source": [
    "class policy_from_V:\n",
    "    def __init__(self, V):\n",
    "        self.V = V\n",
    "    def __call__(self, state):\n",
    "        hand_sum, dealer_card, usable_ace = state\n",
    "        return np.argmax(calc_q((hand_sum, usable_ace), dealer_card))"
   ]
  },
  {
   "cell_type": "code",
   "execution_count": 135,
   "metadata": {},
   "outputs": [
    {
     "data": {
      "text/plain": [
       "-0.04541"
      ]
     },
     "execution_count": 135,
     "metadata": {},
     "output_type": "execute_result"
    }
   ],
   "source": [
    "env = gym.make('Blackjack-v0')\n",
    "\n",
    "estimate_reward(policy_from_V(V), env)"
   ]
  },
  {
   "cell_type": "code",
   "execution_count": null,
   "metadata": {},
   "outputs": [],
   "source": []
  },
  {
   "cell_type": "code",
   "execution_count": null,
   "metadata": {},
   "outputs": [],
   "source": []
  }
 ],
 "metadata": {
  "kernelspec": {
   "display_name": "Python 3",
   "language": "python",
   "name": "python3"
  },
  "language_info": {
   "codemirror_mode": {
    "name": "ipython",
    "version": 3
   },
   "file_extension": ".py",
   "mimetype": "text/x-python",
   "name": "python",
   "nbconvert_exporter": "python",
   "pygments_lexer": "ipython3",
   "version": "3.8.3"
  }
 },
 "nbformat": 4,
 "nbformat_minor": 4
}
